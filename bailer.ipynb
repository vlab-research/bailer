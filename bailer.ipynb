{
 "cells": [
  {
   "cell_type": "code",
   "execution_count": null,
   "metadata": {
    "autoscroll": false,
    "collapsed": false,
    "ein.hycell": false,
    "ein.tags": "worksheet-0",
    "slideshow": {
     "slide_type": "-"
    }
   },
   "outputs": [],
   "source": [
    "! pip install --user --quiet psycopg2-binary\n",
    "! pip install --user --quiet records\n",
    "! pip install --user --quiet cockroachdb\n",
    "! pip install --user --quiet toolz"
   ]
  },
  {
   "cell_type": "code",
   "execution_count": 56,
   "metadata": {
    "autoscroll": false,
    "collapsed": false,
    "ein.hycell": false,
    "ein.tags": "worksheet-0",
    "slideshow": {
     "slide_type": "-"
    }
   },
   "outputs": [],
   "source": [
    "import os\n",
    "\n",
    "os.environ['CHATBASE_DATABASE'] =  \"chatroach\"\n",
    "os.environ['CHATBASE_USER'] =  \"chatroach\"\n",
    "os.environ['CHATBASE_PASSWORD'] =  \"\"\n",
    "os.environ['CHATBASE_HOST'] =  \"localhost\"\n",
    "os.environ['CHATBASE_PORT'] =  \"5432\""
   ]
  },
  {
   "cell_type": "code",
   "execution_count": 66,
   "metadata": {
    "autoscroll": false,
    "collapsed": false,
    "ein.hycell": false,
    "ein.tags": "worksheet-0",
    "slideshow": {
     "slide_type": "-"
    }
   },
   "outputs": [],
   "source": [
    "BAILER_HOURS = 12\n",
    "BAILER_DAYS = 5\n",
    "FORMS = { 'eng': 'bailout_eng', 'hindi': 'bailout_hindi' }\n",
    "BOTSERVER_URL = 'http://localhost:5000'\n",
    "FB_PAGE_ID = '935593143497601'"
   ]
  },
  {
   "cell_type": "code",
   "execution_count": 115,
   "metadata": {
    "autoscroll": false,
    "collapsed": false,
    "ein.hycell": false,
    "ein.tags": "worksheet-0",
    "slideshow": {
     "slide_type": "-"
    }
   },
   "outputs": [],
   "source": [
    "import json\n",
    "import time\n",
    "import datetime\n",
    "import os\n",
    "import records\n",
    "import pandas as pd\n",
    "import numpy as np\n",
    "import requests\n",
    "from toolz import dissoc, get_in\n",
    "\n",
    "def get_ref(d):\n",
    "    md = get_in(['message', 'metadata'], d)\n",
    "    if md:\n",
    "        return json.loads(md).get('ref')\n",
    "\n",
    "def get_df(conn_string):\n",
    "    db = records.Database(conn_string)\n",
    "    dat = db.query('select * from messages')\n",
    "    dat = (r.as_dict() for r in dat)\n",
    "    dat = ({**json.loads(r['content']), 'userid': r['userid']} for r in dat)\n",
    "    dat = (dissoc(d, 'recipient', 'sender') for d in dat)\n",
    "    dat = ({**d, 'text': get_in(['message', 'text'], d), 'ref': get_ref(d)} for d in dat)\n",
    "    dat = ({**d, 'event_type': get_in(['event', 'type'], d), 'ref': get_ref(d)} for d in dat)\n",
    "    dat = (dissoc(d, 'message', 'referral', 'user', 'page', 'postback', 'event', 'data') for d in dat)\n",
    "    return pd.DataFrame(list(dat))\n",
    "\n",
    "def current_timestamp():\n",
    "    return int(time.mktime(datetime.datetime.now().timetuple())) * 1000\n",
    "\n",
    "def get_times(df):\n",
    "    df = df.sort_values('timestamp')\n",
    "    args = np.argwhere((df.ref == 'QQQ').values)[:, 0]\n",
    "    timestamp = df.iloc[args[0]].timestamp\n",
    "    last_seen = df.iloc[args[-1]].timestamp\n",
    "    try:\n",
    "        next_seen = df.iloc[args[-1] + 1].timestamp\n",
    "    except IndexError:\n",
    "        next_seen = current_timestamp()\n",
    "\n",
    "    userid = df.userid.iloc[0]\n",
    "    lang = df.lang.iloc[0]\n",
    "\n",
    "    continuation = df.iloc[args[-1]:].shape[0]\n",
    "\n",
    "    return pd.DataFrame([{ 'userid': userid, 'lang': lang, 'time': timestamp, 'pause': next_seen - last_seen, 'continuation': continuation }])\n",
    "\n",
    "\n",
    "def get_blocked(df, hours):\n",
    "    df = df.copy()\n",
    "\n",
    "    previously_bailed = df[df['event_type'] == 'bailout'].userid.unique()\n",
    "    df = df[~df.userid.isin(previously_bailed)]\n",
    "    df = df[(df.source == 'messenger') & df.text.notna()].reset_index(drop=True)\n",
    "\n",
    "    engs = df.text.str.contains('Hey! Have a look at these videos') == True\n",
    "    hindis = df.text.str.contains('Kripaya is sandesh ko Messenger par apne mitron ko bhejen') == True\n",
    "\n",
    "    df.loc[engs, 'ref'] = 'QQQ'\n",
    "    df.loc[hindis, 'ref'] = 'QQQ'\n",
    "\n",
    "    eng_users = df[engs].userid.unique()\n",
    "    hindi_users = df[hindis].userid.unique()\n",
    "\n",
    "    eng_affected = df[df.userid.isin(eng_users)].reset_index(drop=True)\n",
    "    eng_affected['lang'] = 'eng'\n",
    "\n",
    "    hindi_affected = df[df.userid.isin(hindi_users)].reset_index(drop=True)\n",
    "    hindi_affected['lang'] = 'hindi'\n",
    "\n",
    "    affected = pd.concat([eng_affected, hindi_affected]).reset_index(drop=True).sort_values(['userid', 'timestamp'])\n",
    "    pauses = affected.groupby('userid').apply(get_times).reset_index(drop=True)\n",
    "    blocked = pauses[(pauses.pause > 1000*60*60*hours) & (pauses.continuation < 6)].reset_index(drop=True)\n",
    "\n",
    "    return blocked\n",
    "\n",
    "def get_bailouts(blocked, days):\n",
    "    blocked['bailout_time'] = blocked.time.map(lambda i: datetime.datetime.fromtimestamp(i/1000)) + datetime.timedelta(days=days)\n",
    "    return blocked[blocked['bailout_time'] < datetime.datetime.now()]\n",
    "\n",
    "def conn_string():\n",
    "    user = os.getenv('CHATBASE_USER')\n",
    "    password = os.getenv('CHATBASE_PASSWORD')\n",
    "    db = os.getenv('CHATBASE_DATABASE')\n",
    "    host = os.getenv('CHATBASE_HOST')\n",
    "    port = os.getenv('CHATBASE_PORT')\n",
    "    return f'cockroachdb://{user}:{password}@{host}:{port}/{db}'\n",
    "\n",
    "\n",
    "def _bail(page, user, form):\n",
    "    return { 'event': {'type': 'bailout',\n",
    "                       'value': {'form': form}},\n",
    "             'user': user,\n",
    "             'page': page }\n",
    "\n",
    "def bailout(user, lang):\n",
    "    form = FORMS[lang]\n",
    "    page = FB_PAGE_ID\n",
    "    dat = _bail(page, user, form)\n",
    "    res = requests.post(f'{BOTSERVER_URL}/synthetic', json=dat)\n",
    "    return res"
   ]
  },
  {
   "cell_type": "code",
   "execution_count": 116,
   "metadata": {
    "autoscroll": false,
    "collapsed": false,
    "ein.hycell": false,
    "ein.tags": "worksheet-0",
    "slideshow": {
     "slide_type": "-"
    }
   },
   "outputs": [],
   "source": [
    "df = get_df(conn_string())\n",
    "blocked = get_blocked(df, BAILER_HOURS)\n",
    "bails = get_bailouts(blocked, BAILER_DAYS)"
   ]
  }
 ],
 "metadata": {
  "kernelspec": {
   "argv": [
    "python",
    "-m",
    "ipykernel_launcher",
    "-f",
    "{connection_file}"
   ],
   "display_name": "Python 3",
   "env": null,
   "interrupt_mode": "signal",
   "language": "python",
   "metadata": null,
   "name": "python3"
  },
  "name": "bailer.ipynb"
 },
 "nbformat": 4,
 "nbformat_minor": 4
}
