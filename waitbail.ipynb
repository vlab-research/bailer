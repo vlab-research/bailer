{
 "cells": [
  {
   "cell_type": "code",
   "execution_count": 1,
   "metadata": {
    "autoscroll": false,
    "collapsed": false,
    "ein.hycell": false,
    "ein.tags": "worksheet-0",
    "slideshow": {
     "slide_type": "-"
    }
   },
   "outputs": [
    {
     "name": "stdout",
     "output_type": "stream",
     "text": [
      "\u001b[33mWARNING: You are using pip version 20.0.1; however, version 20.0.2 is available.\r\n",
      "You should consider upgrading via the '/usr/local/bin/python -m pip install --upgrade pip' command.\u001b[0m\r\n"
     ]
    },
    {
     "name": "stdout",
     "output_type": "stream",
     "text": [
      "\u001b[33mWARNING: You are using pip version 20.0.1; however, version 20.0.2 is available.\r\n",
      "You should consider upgrading via the '/usr/local/bin/python -m pip install --upgrade pip' command.\u001b[0m\r\n"
     ]
    },
    {
     "name": "stdout",
     "output_type": "stream",
     "text": [
      "\u001b[33mWARNING: You are using pip version 20.0.1; however, version 20.0.2 is available.\r\n",
      "You should consider upgrading via the '/usr/local/bin/python -m pip install --upgrade pip' command.\u001b[0m\r\n"
     ]
    },
    {
     "name": "stdout",
     "output_type": "stream",
     "text": [
      "\u001b[33mWARNING: You are using pip version 20.0.1; however, version 20.0.2 is available.\r\n",
      "You should consider upgrading via the '/usr/local/bin/python -m pip install --upgrade pip' command.\u001b[0m\r\n"
     ]
    }
   ],
   "source": [
    "! pip install --user --quiet psycopg2-binary\n",
    "! pip install --user --quiet records\n",
    "! pip install --user --quiet cockroachdb\n",
    "! pip install --user --quiet toolz"
   ]
  },
  {
   "cell_type": "code",
   "execution_count": 3,
   "metadata": {
    "autoscroll": false,
    "collapsed": false,
    "ein.hycell": false,
    "ein.tags": "worksheet-0",
    "slideshow": {
     "slide_type": "-"
    }
   },
   "outputs": [],
   "source": [
    "import os\n",
    "\n",
    "os.environ['CHATBASE_DATABASE'] =  \"chatroach\"\n",
    "os.environ['CHATBASE_USER'] =  \"chatroach\"\n",
    "os.environ['CHATBASE_PASSWORD'] =  \"\"\n",
    "os.environ['CHATBASE_HOST'] =  \"localhost\"\n",
    "os.environ['CHATBASE_PORT'] =  \"5432\""
   ]
  },
  {
   "cell_type": "code",
   "execution_count": 4,
   "metadata": {
    "autoscroll": false,
    "collapsed": false,
    "ein.hycell": false,
    "ein.tags": "worksheet-0",
    "slideshow": {
     "slide_type": "-"
    }
   },
   "outputs": [],
   "source": [
    "BAILER_HOURS = 12\n",
    "BAILER_DAYS = 5\n",
    "FORMS = { 'eng': 'bailout_eng', 'hindi': 'bailout_hindi' }\n",
    "BOTSERVER_URL = 'http://localhost:5000'\n",
    "FB_PAGE_ID = '935593143497601'"
   ]
  },
  {
   "cell_type": "code",
   "execution_count": 7,
   "metadata": {
    "autoscroll": false,
    "collapsed": false,
    "ein.hycell": false,
    "ein.tags": "worksheet-0",
    "slideshow": {
     "slide_type": "-"
    }
   },
   "outputs": [],
   "source": [
    "import json\n",
    "import time\n",
    "import datetime\n",
    "import os\n",
    "import records\n",
    "import pandas as pd\n",
    "import numpy as np\n",
    "import requests\n",
    "from toolz import dissoc, get_in\n",
    "\n",
    "\n",
    "def current_timestamp():\n",
    "    return int(time.mktime(datetime.datetime.now().timetuple())) * 1000\n",
    "\n",
    "# def get_times(df):\n",
    "#     df = df.sort_values('timestamp')\n",
    "#     args = np.argwhere((df.ref == 'QQQ').values)[:, 0]\n",
    "#     timestamp = df.iloc[args[0]].timestamp\n",
    "#     last_seen = df.iloc[args[-1]].timestamp\n",
    "#     try:\n",
    "#         next_seen = df.iloc[args[-1] + 1].timestamp\n",
    "#     except IndexError:\n",
    "#         next_seen = current_timestamp()\n",
    "\n",
    "#     userid = df.userid.iloc[0]\n",
    "#     lang = df.lang.iloc[0]\n",
    "\n",
    "#     continuation = df.iloc[args[-1]:].shape[0]\n",
    "\n",
    "#     return pd.DataFrame([{ 'userid': userid, 'lang': lang, 'time': timestamp, 'pause': next_seen - last_seen, 'continuation': continuation }])\n",
    "\n",
    "\n",
    "# def get_blocked(df, hours):\n",
    "#     df = df.copy()\n",
    "\n",
    "#     previously_bailed = df[df['event_type'] == 'bailout'].userid.unique()\n",
    "#     df = df[~df.userid.isin(previously_bailed)]\n",
    "#     df = df[(df.source == 'messenger') & df.text.notna()].reset_index(drop=True)\n",
    "\n",
    "#     engs = df.text.str.contains('Hey! Have a look at these videos') == True\n",
    "#     hindis = df.text.str.contains('Kripaya is sandesh ko Messenger par apne mitron ko bhejen') == True\n",
    "\n",
    "#     df.loc[engs, 'ref'] = 'QQQ'\n",
    "#     df.loc[hindis, 'ref'] = 'QQQ'\n",
    "\n",
    "#     eng_users = df[engs].userid.unique()\n",
    "#     hindi_users = df[hindis].userid.unique()\n",
    "\n",
    "#     eng_affected = df[df.userid.isin(eng_users)].reset_index(drop=True)\n",
    "#     eng_affected['lang'] = 'eng'\n",
    "\n",
    "#     hindi_affected = df[df.userid.isin(hindi_users)].reset_index(drop=True)\n",
    "#     hindi_affected['lang'] = 'hindi'\n",
    "\n",
    "#     affected = pd.concat([eng_affected, hindi_affected]).reset_index(drop=True).sort_values(['userid', 'timestamp'])\n",
    "#     pauses = affected.groupby('userid').apply(get_times).reset_index(drop=True)\n",
    "#     blocked = pauses[(pauses.pause > 1000*60*60*hours) & (pauses.continuation < 6)].reset_index(drop=True)\n",
    "\n",
    "#     return blocked\n",
    "\n",
    "# def get_bailouts(blocked, days):\n",
    "#     blocked['bailout_time'] = blocked.time.map(lambda i: datetime.datetime.fromtimestamp(i/1000)) + datetime.timedelta(days=days)\n",
    "#     return blocked[blocked['bailout_time'] < datetime.datetime.now()]\n",
    "\n",
    "def conn_string():\n",
    "    user = os.getenv('CHATBASE_USER')\n",
    "    password = os.getenv('CHATBASE_PASSWORD')\n",
    "    db = os.getenv('CHATBASE_DATABASE')\n",
    "    host = os.getenv('CHATBASE_HOST')\n",
    "    port = os.getenv('CHATBASE_PORT')\n",
    "    return f'cockroachdb://{user}:{password}@{host}:{port}/{db}'\n",
    "\n",
    "\n",
    "# def _bail(page, user, form):\n",
    "#     return { 'event': {'type': 'bailout',\n",
    "#                        'value': {'form': form}},\n",
    "#              'user': user,\n",
    "#              'page': page }\n",
    "\n",
    "# def bailout(user, lang):\n",
    "#     form = FORMS[lang]\n",
    "#     page = FB_PAGE_ID\n",
    "#     dat = _bail(page, user, form)\n",
    "#     res = requests.post(f'{BOTSERVER_URL}/synthetic', json=dat)\n",
    "#     return res"
   ]
  },
  {
   "cell_type": "code",
   "execution_count": 10,
   "metadata": {
    "autoscroll": false,
    "collapsed": false,
    "ein.hycell": false,
    "ein.tags": "worksheet-0",
    "slideshow": {
     "slide_type": "-"
    }
   },
   "outputs": [],
   "source": [
    "def get_ref(d):\n",
    "    md = get_in(['message', 'metadata'], d)\n",
    "    if md:\n",
    "        return json.loads(md).get('ref')\n",
    "\n",
    "def safe_loads(s):\n",
    "    return json.loads(s) if s else None\n",
    "\n",
    "def get_df(conn_string):\n",
    "    db = records.Database(conn_string)\n",
    "    dat = db.query('select * from messages order by timestamp desc')\n",
    "    dat = (r.as_dict() for r in dat)\n",
    "    dat = ({**json.loads(r['content']), 'userid': r['userid']} for r in dat)\n",
    "    dat = (dissoc(d, 'recipient', 'sender') for d in dat)\n",
    "    dat = ({**d, 'text': get_in(['message', 'text'], d), 'ref': get_ref(d)} for d in dat)\n",
    "    dat = ({**d, 'metadata': get_in(['message', 'metadata'], d)} for d in dat)\n",
    "    dat = ({**d, 'is_echo': get_in(['message', 'is_echo'], d)} for d in dat)\n",
    "    dat = ({**d, 'metadata': safe_loads(d['metadata'])} for d in dat)\n",
    "    dat = ({**d, 'wait': get_in(['metadata', 'wait', 'value'], d)} for d in dat)\n",
    "    dat = (dissoc(d, 'message', 'referral', 'user', 'page', 'postback', 'event', 'data', 'metadata') for d in dat)\n",
    "    return pd.DataFrame(list(dat))\n"
   ]
  },
  {
   "cell_type": "code",
   "execution_count": 11,
   "metadata": {
    "autoscroll": false,
    "collapsed": false,
    "ein.hycell": false,
    "ein.tags": "worksheet-0",
    "slideshow": {
     "slide_type": "-"
    }
   },
   "outputs": [],
   "source": [
    "df = get_df(conn_string())"
   ]
  },
  {
   "cell_type": "code",
   "execution_count": 53,
   "metadata": {
    "autoscroll": false,
    "collapsed": false,
    "ein.hycell": false,
    "ein.tags": "worksheet-0",
    "slideshow": {
     "slide_type": "-"
    }
   },
   "outputs": [],
   "source": [
    "def is_waiting(df):\n",
    "    df = df.sort_values('timestamp')\n",
    "    args = np.argwhere(((df.wait == '168 hours') | (df.wait == '192 hours')).values)[:, 0]\n",
    "\n",
    "    if not len(args):\n",
    "        return None\n",
    "\n",
    "    timestamp = df.iloc[args[0]].timestamp\n",
    "    last_seen = df.iloc[args[-1]].timestamp\n",
    "    # lang = df.lang.iloc[0]\n",
    "    userid = df.userid.iloc[0]\n",
    "    continuation = df.iloc[args[-1]:].shape[0]\n",
    "\n",
    "    return df.assign(continuation = continuation)\n",
    "    # final = df.sort_values('timestamp').iloc[-1]\n",
    "    # if final.wait == '168 hours' or final.wait == '192 hours':\n",
    "        # return True\n",
    "    # return False"
   ]
  },
  {
   "cell_type": "code",
   "execution_count": 54,
   "metadata": {
    "autoscroll": false,
    "collapsed": false,
    "ein.hycell": false,
    "ein.tags": "worksheet-0",
    "slideshow": {
     "slide_type": "-"
    }
   },
   "outputs": [],
   "source": [
    "dd = df.groupby('userid').apply(is_waiting)"
   ]
  },
  {
   "cell_type": "code",
   "execution_count": 56,
   "metadata": {
    "autoscroll": false,
    "collapsed": false,
    "ein.hycell": false,
    "ein.tags": "worksheet-0",
    "slideshow": {
     "slide_type": "-"
    }
   },
   "outputs": [
    {
     "data": {
      "text/html": [
       "<div>\n<style scoped>\n    .dataframe tbody tr th:only-of-type {\n        vertical-align: middle;\n    }\n\n    .dataframe tbody tr th {\n        vertical-align: top;\n    }\n\n    .dataframe thead th {\n        text-align: right;\n    }\n</style>\n<table border=\"1\" class=\"dataframe\">\n  <thead>\n    <tr style=\"text-align: right;\">\n      <th></th>\n      <th></th>\n      <th>is_echo</th>\n      <th>source</th>\n      <th>text</th>\n      <th>timestamp</th>\n      <th>wait</th>\n      <th>ref</th>\n      <th>userid</th>\n      <th>optin</th>\n      <th>message_request</th>\n      <th>continuation</th>\n    </tr>\n    <tr>\n      <th>userid</th>\n      <th></th>\n      <th></th>\n      <th></th>\n      <th></th>\n      <th></th>\n      <th></th>\n      <th></th>\n      <th></th>\n      <th></th>\n      <th></th>\n      <th></th>\n    </tr>\n  </thead>\n  <tbody>\n    <tr>\n      <th rowspan=\"5\" valign=\"top\">1503630593093973</th>\n      <th>1635385</th>\n      <td>None</td>\n      <td>messenger</td>\n      <td>None</td>\n      <td>1582021787252</td>\n      <td>None</td>\n      <td>None</td>\n      <td>1503630593093973</td>\n      <td>NaN</td>\n      <td>NaN</td>\n      <td>2</td>\n    </tr>\n    <tr>\n      <th>1635353</th>\n      <td>True</td>\n      <td>messenger</td>\n      <td>Hi Saba Khan, in which language would you like...</td>\n      <td>1582021795188</td>\n      <td>None</td>\n      <td>09a14047-26f1-46b6-9c5f-cb7b1330cbad</td>\n      <td>1503630593093973</td>\n      <td>NaN</td>\n      <td>NaN</td>\n      <td>2</td>\n    </tr>\n    <tr>\n      <th>1635298</th>\n      <td>None</td>\n      <td>messenger</td>\n      <td>Hindi</td>\n      <td>1582021804270</td>\n      <td>None</td>\n      <td>None</td>\n      <td>1503630593093973</td>\n      <td>NaN</td>\n      <td>NaN</td>\n      <td>2</td>\n    </tr>\n    <tr>\n      <th>1635285</th>\n      <td>True</td>\n      <td>messenger</td>\n      <td>Dhanyavaad!</td>\n      <td>1582021807109</td>\n      <td>None</td>\n      <td>f761c804-0a8e-4328-a29d-b9dec849f284</td>\n      <td>1503630593093973</td>\n      <td>NaN</td>\n      <td>NaN</td>\n      <td>2</td>\n    </tr>\n    <tr>\n      <th>1635264</th>\n      <td>True</td>\n      <td>messenger</td>\n      <td>Aapaka svaagat hai Saba Khan! 😀 \\nHum bharat m...</td>\n      <td>1582021810670</td>\n      <td>None</td>\n      <td>000dd1a3-ea0e-43eb-97b3-4d10c66f1274</td>\n      <td>1503630593093973</td>\n      <td>NaN</td>\n      <td>NaN</td>\n      <td>2</td>\n    </tr>\n    <tr>\n      <th>...</th>\n      <th>...</th>\n      <td>...</td>\n      <td>...</td>\n      <td>...</td>\n      <td>...</td>\n      <td>...</td>\n      <td>...</td>\n      <td>...</td>\n      <td>...</td>\n      <td>...</td>\n      <td>...</td>\n    </tr>\n    <tr>\n      <th rowspan=\"5\" valign=\"top\">4226115810747630</th>\n      <th>60833</th>\n      <td>None</td>\n      <td>synthetic</td>\n      <td>None</td>\n      <td>1583039963877</td>\n      <td>None</td>\n      <td>None</td>\n      <td>4226115810747630</td>\n      <td>NaN</td>\n      <td>NaN</td>\n      <td>2</td>\n    </tr>\n    <tr>\n      <th>60831</th>\n      <td>True</td>\n      <td>messenger</td>\n      <td>Thank you for your time!  \\nIn the coming days...</td>\n      <td>1583039964400</td>\n      <td>None</td>\n      <td>e3115214-f795-4561-8205-f9d708fecb70</td>\n      <td>4226115810747630</td>\n      <td>NaN</td>\n      <td>NaN</td>\n      <td>2</td>\n    </tr>\n    <tr>\n      <th>60832</th>\n      <td>None</td>\n      <td>synthetic</td>\n      <td>None</td>\n      <td>1583039964799</td>\n      <td>None</td>\n      <td>None</td>\n      <td>4226115810747630</td>\n      <td>NaN</td>\n      <td>NaN</td>\n      <td>2</td>\n    </tr>\n    <tr>\n      <th>60829</th>\n      <td>True</td>\n      <td>messenger</td>\n      <td>Thank you!</td>\n      <td>1583039965346</td>\n      <td>192 hours</td>\n      <td>895b5352-0c9b-4dc0-a38b-644f9bfc79a4</td>\n      <td>4226115810747630</td>\n      <td>NaN</td>\n      <td>NaN</td>\n      <td>2</td>\n    </tr>\n    <tr>\n      <th>60830</th>\n      <td>None</td>\n      <td>synthetic</td>\n      <td>None</td>\n      <td>1583039965991</td>\n      <td>None</td>\n      <td>None</td>\n      <td>4226115810747630</td>\n      <td>NaN</td>\n      <td>NaN</td>\n      <td>2</td>\n    </tr>\n  </tbody>\n</table>\n<p>67161 rows × 10 columns</p>\n</div>"
      ],
      "text/plain": [
       "                         is_echo     source  \\\nuserid                                        \n1503630593093973 1635385    None  messenger   \n                 1635353    True  messenger   \n                 1635298    None  messenger   \n                 1635285    True  messenger   \n                 1635264    True  messenger   \n...                          ...        ...   \n4226115810747630 60833      None  synthetic   \n                 60831      True  messenger   \n                 60832      None  synthetic   \n                 60829      True  messenger   \n                 60830      None  synthetic   \n\n                                                                       text  \\\nuserid                                                                        \n1503630593093973 1635385                                               None   \n                 1635353  Hi Saba Khan, in which language would you like...   \n                 1635298                                              Hindi   \n                 1635285                                        Dhanyavaad!   \n                 1635264  Aapaka svaagat hai Saba Khan! 😀 \\nHum bharat m...   \n...                                                                     ...   \n4226115810747630 60833                                                 None   \n                 60831    Thank you for your time!  \\nIn the coming days...   \n                 60832                                                 None   \n                 60829                                           Thank you!   \n                 60830                                                 None   \n\n                              timestamp       wait  \\\nuserid                                               \n1503630593093973 1635385  1582021787252       None   \n                 1635353  1582021795188       None   \n                 1635298  1582021804270       None   \n                 1635285  1582021807109       None   \n                 1635264  1582021810670       None   \n...                                 ...        ...   \n4226115810747630 60833    1583039963877       None   \n                 60831    1583039964400       None   \n                 60832    1583039964799       None   \n                 60829    1583039965346  192 hours   \n                 60830    1583039965991       None   \n\n                                                           ref  \\\nuserid                                                           \n1503630593093973 1635385                                  None   \n                 1635353  09a14047-26f1-46b6-9c5f-cb7b1330cbad   \n                 1635298                                  None   \n                 1635285  f761c804-0a8e-4328-a29d-b9dec849f284   \n                 1635264  000dd1a3-ea0e-43eb-97b3-4d10c66f1274   \n...                                                        ...   \n4226115810747630 60833                                    None   \n                 60831    e3115214-f795-4561-8205-f9d708fecb70   \n                 60832                                    None   \n                 60829    895b5352-0c9b-4dc0-a38b-644f9bfc79a4   \n                 60830                                    None   \n\n                                    userid optin message_request  continuation  \nuserid                                                                          \n1503630593093973 1635385  1503630593093973   NaN             NaN             2  \n                 1635353  1503630593093973   NaN             NaN             2  \n                 1635298  1503630593093973   NaN             NaN             2  \n                 1635285  1503630593093973   NaN             NaN             2  \n                 1635264  1503630593093973   NaN             NaN             2  \n...                                    ...   ...             ...           ...  \n4226115810747630 60833    4226115810747630   NaN             NaN             2  \n                 60831    4226115810747630   NaN             NaN             2  \n                 60832    4226115810747630   NaN             NaN             2  \n                 60829    4226115810747630   NaN             NaN             2  \n                 60830    4226115810747630   NaN             NaN             2  \n\n[67161 rows x 10 columns]"
      ]
     },
     "execution_count": 56,
     "metadata": {},
     "output_type": "execute_result"
    }
   ],
   "source": [
    "dd[dd['continuation'] < 3]"
   ]
  },
  {
   "cell_type": "code",
   "execution_count": 48,
   "metadata": {
    "autoscroll": false,
    "collapsed": false,
    "ein.hycell": false,
    "ein.tags": "worksheet-0",
    "slideshow": {
     "slide_type": "-"
    }
   },
   "outputs": [
    {
     "data": {
      "text/plain": [
       "array(['1501574496633221', '1503630593093973', '1510287932428690', ...,\n       '4441890412488489', '5134128719949112', '5334908873293683'],\n      dtype=object)"
      ]
     },
     "execution_count": 48,
     "metadata": {},
     "output_type": "execute_result"
    }
   ],
   "source": [
    "dd.userid.unique()"
   ]
  },
  {
   "cell_type": "code",
   "execution_count": 116,
   "metadata": {
    "autoscroll": false,
    "collapsed": false,
    "ein.hycell": false,
    "ein.tags": "worksheet-0",
    "slideshow": {
     "slide_type": "-"
    }
   },
   "outputs": [],
   "source": [
    "df = get_df(conn_string())\n",
    "blocked = get_blocked(df, BAILER_HOURS)\n",
    "bails = get_bailouts(blocked, BAILER_DAYS)"
   ]
  }
 ],
 "metadata": {
  "kernelspec": {
   "argv": [
    "python",
    "-m",
    "ipykernel_launcher",
    "-f",
    "{connection_file}"
   ],
   "display_name": "Python 3",
   "env": null,
   "interrupt_mode": "signal",
   "language": "python",
   "metadata": null,
   "name": "python3"
  },
  "name": "waitbail.ipynb"
 },
 "nbformat": 4,
 "nbformat_minor": 4
}
